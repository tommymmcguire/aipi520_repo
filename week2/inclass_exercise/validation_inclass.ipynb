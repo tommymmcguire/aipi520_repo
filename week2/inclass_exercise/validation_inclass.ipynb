{
 "cells": [
  {
   "cell_type": "markdown",
   "metadata": {},
   "source": [
    "<a href='https://ai.meng.duke.edu'> = <img align=\"left\" style=\"padding-top:10px;\" src=https://storage.googleapis.com/aipi_datasets/Duke-AIPI-Logo.png>"
   ]
  },
  {
   "cell_type": "markdown",
   "metadata": {},
   "source": [
    "# Model Selection & Evaluation"
   ]
  },
  {
   "cell_type": "markdown",
   "metadata": {},
   "source": [
    "In this notebook we are going to look at strategies to divide your dataset in order to perform model selection and testing using subsets of data in ways that do not create bias in your measurement of model performance.\n",
    "\n",
    "We are going to use a dataset which comes from a study done to try to use sonar signals to differentiate between a mine (simulated using a metal cylinder) and a rock.  Details on the dataset can be found [here](https://archive.ics.uci.edu/ml/datasets/Connectionist+Bench+(Sonar,+Mines+vs.+Rocks))"
   ]
  },
  {
   "cell_type": "code",
   "execution_count": 1,
   "metadata": {},
   "outputs": [],
   "source": [
    "# Import the libraries we know we need\n",
    "import numpy as np\n",
    "import pandas as pd\n",
    "import matplotlib.pyplot as plt\n",
    "import seaborn as sns\n",
    "from sklearn.model_selection import train_test_split\n",
    "from sklearn.neural_network import MLPClassifier\n",
    "from sklearn.linear_model import LogisticRegression\n",
    "\n",
    "from sklearn.model_selection import KFold\n",
    "\n",
    "import warnings\n",
    "warnings.filterwarnings(\"ignore\")"
   ]
  },
  {
   "cell_type": "code",
   "execution_count": 2,
   "metadata": {},
   "outputs": [
    {
     "name": "stdout",
     "output_type": "stream",
     "text": [
      "(208, 61)\n"
     ]
    },
    {
     "data": {
      "text/html": [
       "<div>\n",
       "<style scoped>\n",
       "    .dataframe tbody tr th:only-of-type {\n",
       "        vertical-align: middle;\n",
       "    }\n",
       "\n",
       "    .dataframe tbody tr th {\n",
       "        vertical-align: top;\n",
       "    }\n",
       "\n",
       "    .dataframe thead th {\n",
       "        text-align: right;\n",
       "    }\n",
       "</style>\n",
       "<table border=\"1\" class=\"dataframe\">\n",
       "  <thead>\n",
       "    <tr style=\"text-align: right;\">\n",
       "      <th></th>\n",
       "      <th>0</th>\n",
       "      <th>1</th>\n",
       "      <th>2</th>\n",
       "      <th>3</th>\n",
       "      <th>4</th>\n",
       "      <th>5</th>\n",
       "      <th>6</th>\n",
       "      <th>7</th>\n",
       "      <th>8</th>\n",
       "      <th>9</th>\n",
       "      <th>...</th>\n",
       "      <th>51</th>\n",
       "      <th>52</th>\n",
       "      <th>53</th>\n",
       "      <th>54</th>\n",
       "      <th>55</th>\n",
       "      <th>56</th>\n",
       "      <th>57</th>\n",
       "      <th>58</th>\n",
       "      <th>59</th>\n",
       "      <th>60</th>\n",
       "    </tr>\n",
       "  </thead>\n",
       "  <tbody>\n",
       "    <tr>\n",
       "      <th>0</th>\n",
       "      <td>0.0200</td>\n",
       "      <td>0.0371</td>\n",
       "      <td>0.0428</td>\n",
       "      <td>0.0207</td>\n",
       "      <td>0.0954</td>\n",
       "      <td>0.0986</td>\n",
       "      <td>0.1539</td>\n",
       "      <td>0.1601</td>\n",
       "      <td>0.3109</td>\n",
       "      <td>0.2111</td>\n",
       "      <td>...</td>\n",
       "      <td>0.0027</td>\n",
       "      <td>0.0065</td>\n",
       "      <td>0.0159</td>\n",
       "      <td>0.0072</td>\n",
       "      <td>0.0167</td>\n",
       "      <td>0.0180</td>\n",
       "      <td>0.0084</td>\n",
       "      <td>0.0090</td>\n",
       "      <td>0.0032</td>\n",
       "      <td>R</td>\n",
       "    </tr>\n",
       "    <tr>\n",
       "      <th>1</th>\n",
       "      <td>0.0453</td>\n",
       "      <td>0.0523</td>\n",
       "      <td>0.0843</td>\n",
       "      <td>0.0689</td>\n",
       "      <td>0.1183</td>\n",
       "      <td>0.2583</td>\n",
       "      <td>0.2156</td>\n",
       "      <td>0.3481</td>\n",
       "      <td>0.3337</td>\n",
       "      <td>0.2872</td>\n",
       "      <td>...</td>\n",
       "      <td>0.0084</td>\n",
       "      <td>0.0089</td>\n",
       "      <td>0.0048</td>\n",
       "      <td>0.0094</td>\n",
       "      <td>0.0191</td>\n",
       "      <td>0.0140</td>\n",
       "      <td>0.0049</td>\n",
       "      <td>0.0052</td>\n",
       "      <td>0.0044</td>\n",
       "      <td>R</td>\n",
       "    </tr>\n",
       "    <tr>\n",
       "      <th>2</th>\n",
       "      <td>0.0262</td>\n",
       "      <td>0.0582</td>\n",
       "      <td>0.1099</td>\n",
       "      <td>0.1083</td>\n",
       "      <td>0.0974</td>\n",
       "      <td>0.2280</td>\n",
       "      <td>0.2431</td>\n",
       "      <td>0.3771</td>\n",
       "      <td>0.5598</td>\n",
       "      <td>0.6194</td>\n",
       "      <td>...</td>\n",
       "      <td>0.0232</td>\n",
       "      <td>0.0166</td>\n",
       "      <td>0.0095</td>\n",
       "      <td>0.0180</td>\n",
       "      <td>0.0244</td>\n",
       "      <td>0.0316</td>\n",
       "      <td>0.0164</td>\n",
       "      <td>0.0095</td>\n",
       "      <td>0.0078</td>\n",
       "      <td>R</td>\n",
       "    </tr>\n",
       "    <tr>\n",
       "      <th>3</th>\n",
       "      <td>0.0100</td>\n",
       "      <td>0.0171</td>\n",
       "      <td>0.0623</td>\n",
       "      <td>0.0205</td>\n",
       "      <td>0.0205</td>\n",
       "      <td>0.0368</td>\n",
       "      <td>0.1098</td>\n",
       "      <td>0.1276</td>\n",
       "      <td>0.0598</td>\n",
       "      <td>0.1264</td>\n",
       "      <td>...</td>\n",
       "      <td>0.0121</td>\n",
       "      <td>0.0036</td>\n",
       "      <td>0.0150</td>\n",
       "      <td>0.0085</td>\n",
       "      <td>0.0073</td>\n",
       "      <td>0.0050</td>\n",
       "      <td>0.0044</td>\n",
       "      <td>0.0040</td>\n",
       "      <td>0.0117</td>\n",
       "      <td>R</td>\n",
       "    </tr>\n",
       "    <tr>\n",
       "      <th>4</th>\n",
       "      <td>0.0762</td>\n",
       "      <td>0.0666</td>\n",
       "      <td>0.0481</td>\n",
       "      <td>0.0394</td>\n",
       "      <td>0.0590</td>\n",
       "      <td>0.0649</td>\n",
       "      <td>0.1209</td>\n",
       "      <td>0.2467</td>\n",
       "      <td>0.3564</td>\n",
       "      <td>0.4459</td>\n",
       "      <td>...</td>\n",
       "      <td>0.0031</td>\n",
       "      <td>0.0054</td>\n",
       "      <td>0.0105</td>\n",
       "      <td>0.0110</td>\n",
       "      <td>0.0015</td>\n",
       "      <td>0.0072</td>\n",
       "      <td>0.0048</td>\n",
       "      <td>0.0107</td>\n",
       "      <td>0.0094</td>\n",
       "      <td>R</td>\n",
       "    </tr>\n",
       "  </tbody>\n",
       "</table>\n",
       "<p>5 rows × 61 columns</p>\n",
       "</div>"
      ],
      "text/plain": [
       "       0       1       2       3       4       5       6       7       8   \\\n",
       "0  0.0200  0.0371  0.0428  0.0207  0.0954  0.0986  0.1539  0.1601  0.3109   \n",
       "1  0.0453  0.0523  0.0843  0.0689  0.1183  0.2583  0.2156  0.3481  0.3337   \n",
       "2  0.0262  0.0582  0.1099  0.1083  0.0974  0.2280  0.2431  0.3771  0.5598   \n",
       "3  0.0100  0.0171  0.0623  0.0205  0.0205  0.0368  0.1098  0.1276  0.0598   \n",
       "4  0.0762  0.0666  0.0481  0.0394  0.0590  0.0649  0.1209  0.2467  0.3564   \n",
       "\n",
       "       9   ...      51      52      53      54      55      56      57  \\\n",
       "0  0.2111  ...  0.0027  0.0065  0.0159  0.0072  0.0167  0.0180  0.0084   \n",
       "1  0.2872  ...  0.0084  0.0089  0.0048  0.0094  0.0191  0.0140  0.0049   \n",
       "2  0.6194  ...  0.0232  0.0166  0.0095  0.0180  0.0244  0.0316  0.0164   \n",
       "3  0.1264  ...  0.0121  0.0036  0.0150  0.0085  0.0073  0.0050  0.0044   \n",
       "4  0.4459  ...  0.0031  0.0054  0.0105  0.0110  0.0015  0.0072  0.0048   \n",
       "\n",
       "       58      59  60  \n",
       "0  0.0090  0.0032   R  \n",
       "1  0.0052  0.0044   R  \n",
       "2  0.0095  0.0078   R  \n",
       "3  0.0040  0.0117   R  \n",
       "4  0.0107  0.0094   R  \n",
       "\n",
       "[5 rows x 61 columns]"
      ]
     },
     "metadata": {},
     "output_type": "display_data"
    }
   ],
   "source": [
    "def load_data(url):\n",
    "    # Load the data\n",
    "    data = pd.read_csv(url, header=None)\n",
    "    print(data.shape)\n",
    "    display(data.head())\n",
    "\n",
    "    # Separate into X and y \n",
    "    # Create feature matrix using the first 60 columns as the features\n",
    "    X = data.iloc[:,:60].to_numpy()\n",
    "    # Create target vector from the last column\n",
    "    y = data.iloc[:,60].to_numpy()\n",
    "\n",
    "    return X,y\n",
    "\n",
    "X,y = load_data('https://raw.githubusercontent.com/jbrownlee/Datasets/master/sonar.csv')"
   ]
  },
  {
   "cell_type": "markdown",
   "metadata": {},
   "source": [
    "## Part 1: Training and test sets\n",
    "First, complete the `split()` function which does the following: \n",
    "- Splits your data into a feature matrix X and a target vector y  \n",
    "- THen splits the data into a training set and a test set, using `pct` percentage of the data for the test set.  Use `random_state=0` while splitting for repeatability.  Use the `stratify` parameter to ensure that the splits contain the same distribution of labels as the original data.\n",
    "\n",
    "Then, complete the function `run_model()` which does the following:\n",
    "- Trains (fit) your model on the training data \n",
    "- Uses your trained model to get predictions on the `X_test` test set and returns the predictions \n",
    "\n",
    "Finally, run the next code cell to calculate the display the accuracy of your classifier model"
   ]
  },
  {
   "cell_type": "code",
   "execution_count": 3,
   "metadata": {},
   "outputs": [],
   "source": [
    "def split(X,y,pct):\n",
    "    '''\n",
    "    Splits the data into training and test sets\n",
    "\n",
    "    Inputs:\n",
    "        X(np.ndarray): array of input data\n",
    "        y(np.ndarray): array of targets\n",
    "        pct(float): percentage of data to use for the test set\n",
    "\n",
    "    Returns:\n",
    "        X_train(np.ndarray): training set inputs\n",
    "        y_train(np.ndarray): training set targets\n",
    "        X_test(np.ndarray): test set inputs\n",
    "        y_test(np.ndarray): test set targets\n",
    "    '''\n",
    "    ### BEGIN SOLUTION ###\n",
    "    X_train, X_test, y_train, y_test = train_test_split(X, y, test_size=pct, random_state=0, stratify=y)\n",
    "    return X_train, y_train, X_test, y_test\n",
    "    ### END SOLUTION ###\n",
    "\n",
    "def run_model(X_train,y_train,X_test,model):\n",
    "    '''\n",
    "    Trains a model on the training data and then generates and returns predictions on the test set\n",
    "\n",
    "    Inputs:\n",
    "        X_train(np.ndarray): training set inputs\n",
    "        y_train(np.ndarray): training set targets\n",
    "        X_test(np.ndarray): test set inputs\n",
    "        model(sklearn.base.BaseEstimator): instantiated scikit-learn model object\n",
    "\n",
    "    Returns:\n",
    "        preds(np.ndarray): numpy array containing the model predictions for the test set\n",
    "    '''\n",
    "    ### BEGIN SOLUTION ###\n",
    "    model.fit(X_train,y_train)\n",
    "    preds = model.predict(X_test)\n",
    "    return preds\n",
    "    ### END SOLUTION ###"
   ]
  },
  {
   "cell_type": "code",
   "execution_count": 4,
   "metadata": {},
   "outputs": [
    {
     "name": "stdout",
     "output_type": "stream",
     "text": [
      "Accuracy of our classifier on the test set is 0.750\n"
     ]
    }
   ],
   "source": [
    "# Create an instance of the MLPClassifier algorithm and set the hyperparameter values\n",
    "model = MLPClassifier(hidden_layer_sizes=(100,50,10),activation='tanh',\n",
    "                      solver='sgd',learning_rate_init=0.001,max_iter=2000, random_state=0)\n",
    "                      \n",
    "# Evaluate the performance of our model using the test predictions\n",
    "X_train, y_train, X_test, y_test = split(X,y,pct=0.15)\n",
    "preds = run_model(X_train,y_train,X_test,model)\n",
    "assert len(preds) == len(y_test)\n",
    "acc_test = np.sum(preds==y_test)/len(y_test)\n",
    "print('Accuracy of our classifier on the test set is {:.3f}'.format(acc_test))"
   ]
  },
  {
   "cell_type": "markdown",
   "metadata": {},
   "source": [
    "## Part 2: Model selection using validation sets\n",
    "But what if we want to compare different models (for example, evaluate different algorithms or fine-tune our hyperparameters)?  Can we use the same strategy of training each model on the training data and then comparing their performance on the test set to select the best model?\n",
    "\n",
    "When we are seeking to optimize models by tuning hyperparameters or comparing different algorithms, it is a best practice to do so by comparing the performance of your model options using a \"validation\" set, and then reserve use of the test set to evaluate the performance of the final model you have selected.  To utilize this approach we must split our data three ways to create a training set, validation set, and test set.\n",
    "\n",
    "To illustrate this, let's compare two different models.  Complete the function below which performs the following:\n",
    "- Split your training set again into a training set and a validation set, using 15% of the training set for the new validation set (and the remaining 85% is still available for training). Use the `stratify` parameter to ensure that the splits contain the same distribution of labels as the original data.\n",
    "- Train (fit) the models provided as inputs on the training data\n",
    "- Now, use each of your trained models to generate predictions on the validation set inputs and calculate the accuracy of the predictions for each model.  Return the model with the higher validation set accuracy"
   ]
  },
  {
   "cell_type": "code",
   "execution_count": 5,
   "metadata": {},
   "outputs": [],
   "source": [
    "def compare_models(models,X_train,y_train):\n",
    "    '''\n",
    "    Compares models using a validation set and returns the model with the highest validation set performance\n",
    "\n",
    "    Inputs:\n",
    "        models(list): list of instantiated models to compare\n",
    "        X_train(np.ndarray): training set inputs\n",
    "        y_train(np.ndarray): training set targets\n",
    "\n",
    "    Returns:\n",
    "        best_model(sklearn.base.BaseEstimator): model with the highest validation set performance\n",
    "    '''\n",
    "    ### BEGIN SOLUTION ###\n",
    "    best_acc = 0\n",
    "    best_model = None\n",
    "    \n",
    "    X_train_new, X_val, y_train_new,y_val = train_test_split(X_train, y_train, pct=0.15)\n",
    "    for model in models:\n",
    "        model.fit(X_train_new,y_train_new)\n",
    "        preds = model.predict(X_val)\n",
    "        assert len(preds) == len(y_val)\n",
    "        acc_val = np.sum(preds==y_val)/len(y_val)\n",
    "        if acc_val >= best_acc:\n",
    "            best_acc = acc_val\n",
    "            best_model = model\n",
    "    return best_model\n",
    "    ### END SOLUTION ###"
   ]
  },
  {
   "cell_type": "code",
   "execution_count": 6,
   "metadata": {},
   "outputs": [],
   "source": [
    "X_train_full,y_train_full,X_test,y_test = split(X,y,pct=0.15)\n",
    "\n",
    "# Create an instance of each model we want to evaluate\n",
    "model1 = MLPClassifier(hidden_layer_sizes=(100,50,10),activation='tanh',\n",
    "                      solver='sgd',learning_rate_init=0.001,max_iter=2000, random_state=0)\n",
    "\n",
    "model2 = MLPClassifier(hidden_layer_sizes=(100,50),activation='relu',\n",
    "                      solver='sgd',learning_rate_init=0.01,max_iter=2000, random_state=0)\n",
    "\n",
    "models = [model1,model2]\n",
    "best_model = compare_models(models,X_train,y_train)"
   ]
  },
  {
   "cell_type": "markdown",
   "metadata": {},
   "source": [
    "Now that we've chosen our final model, we can use the test set to evaluate it's performance.  Before we do that, let's retrain our model using the training plus validation data - since we are now done with model comparision we can use the validation set as part of our training data for our final model."
   ]
  },
  {
   "cell_type": "code",
   "execution_count": 7,
   "metadata": {},
   "outputs": [
    {
     "name": "stdout",
     "output_type": "stream",
     "text": [
      "Accuracy of our model on the test set is 0.844\n"
     ]
    }
   ],
   "source": [
    "# Train our selected model on the full training data (training plus validation sets)\n",
    "best_model.fit(X_train_full,y_train_full)\n",
    "\n",
    "# Evaluate its performance on the test set\n",
    "preds_test = best_model.predict(X_test)\n",
    "acc_test = sum(preds_test==y_test)/len(y_test)\n",
    "print('Accuracy of our model on the test set is {:.3f}'.format(acc_test))"
   ]
  },
  {
   "cell_type": "markdown",
   "metadata": {},
   "source": [
    "## Part 3: Model selection using cross-validation"
   ]
  },
  {
   "cell_type": "markdown",
   "metadata": {},
   "source": [
    "A common approach to comparing and optimizing models is to use cross-validation rather than a single validation set to compare model performace.  Complete the below function `run_kfolds()` which performs k-folds cross validation on the models provided as inputs.  Your function should use `nsplits` number of folds in the cross-validation and validation accuracy as the comparision metric.  After your model calculates the mean validation set accuracy for each model it should then return the model with the best performance.\n"
   ]
  },
  {
   "cell_type": "code",
   "execution_count": null,
   "metadata": {},
   "outputs": [],
   "source": [
    "def run_kfolds(models,X_train,y_train,nsplits):\n",
    "    '''\n",
    "    Performs k-folds cross validation on an arbitrary number of models provided as inputs and returns the model with the highest \n",
    "    validation set accuracy\n",
    "\n",
    "    Inputs:\n",
    "        X_train(np.ndarray): numpy array containing the training set features\n",
    "        y_train(np.ndarray): numpy array containing the training set labels\n",
    "        models(list): list of instantiated scikit-learn model objects to compare\n",
    "        nsplits(int): number of folds for cross-validation\n",
    "\n",
    "    Returns:\n",
    "        best_model(sklearn.base.BaseEstimator): model with the highest cross-validation accuracy\n",
    "    '''\n",
    "\n",
    "    ### BEGIN SOLUTION ###\n",
    "    kf = KFold(n_splits=nsplits)\n",
    "    for model in models:\n",
    "        for (train_idx,val_idx) in kf.split(X=X_train,y=y_train)\n",
    "        X_fold_train, X_fold_val = X_train.iloc[train]\n",
    "    \n",
    "        \n",
    "    ### END SOLUTION ###\n",
    "            "
   ]
  },
  {
   "cell_type": "code",
   "execution_count": null,
   "metadata": {},
   "outputs": [],
   "source": [
    "# Set up the two models we want to compare: a neural network model and a KNN model\n",
    "model2 = MLPClassifier(hidden_layer_sizes=(100,50),activation='relu',\n",
    "                    solver='sgd',learning_rate_init=0.01,max_iter=1000)\n",
    "model3 = LogisticRegression()\n",
    "models = [model2,model3]\n",
    "\n",
    "# Split data\n",
    "X_train, y_train, X_test, y_test = split(X,y,pct=0.15)\n",
    "\n",
    "# Run cross validation\n",
    "best_model = run_kfolds(models,X_train,y_train,nsplits=10)"
   ]
  },
  {
   "cell_type": "markdown",
   "metadata": {},
   "source": [
    "As we can see above, the cross-validation accuracy of model2 is higher than model3, so we will use model2 as our best model.  Let's now evaluate its performance on the test set"
   ]
  },
  {
   "cell_type": "code",
   "execution_count": null,
   "metadata": {},
   "outputs": [],
   "source": [
    "# Train our selected model on the training plus validation sets\n",
    "preds = run_model(X_train,y_train,X_test,best_model)\n",
    "\n",
    "# Evaluate its performance on the test set\n",
    "acc_test = np.sum(preds==y_test)/len(y_test)\n",
    "print('Accuracy of our model on the test set is {:.3f}'.format(acc_test))"
   ]
  }
 ],
 "metadata": {
  "kernelspec": {
   "display_name": "Python 3.9.7 ('aipi540')",
   "language": "python",
   "name": "python3"
  },
  "language_info": {
   "codemirror_mode": {
    "name": "ipython",
    "version": 3
   },
   "file_extension": ".py",
   "mimetype": "text/x-python",
   "name": "python",
   "nbconvert_exporter": "python",
   "pygments_lexer": "ipython3",
   "version": "3.10.8"
  },
  "vscode": {
   "interpreter": {
    "hash": "31cc86d7aac4849c7546154c9b56d60163d5e8a1d83593a5eed18774fbf4fd37"
   }
  }
 },
 "nbformat": 4,
 "nbformat_minor": 4
}
